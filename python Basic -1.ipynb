{
 "cells": [
  {
   "cell_type": "code",
   "execution_count": 1,
   "id": "6ebf566a",
   "metadata": {},
   "outputs": [
    {
     "name": "stdout",
     "output_type": "stream",
     "text": [
      "Hello everyone, My name is Manu Pandey.\n",
      " I belongs to Lakhimpur Kheri Uttar-Pradesh.\n",
      " I have completed my graduation from CSJMU in 2021 and \n",
      " also i completed Polytechnic Diploma from Government Polytechnic Mohammadi,Lakhimpur kheri with C.S. trade.\n"
     ]
    }
   ],
   "source": [
    "#(1):-WAP to print yourself Introduction\n",
    "x=\"Hello everyone, My name is Manu Pandey.\\n I belongs to Lakhimpur Kheri Uttar-Pradesh.\\n I have completed my graduation from CSJMU in 2021 and \\n also i completed Polytechnic Diploma from Government Polytechnic Mohammadi,Lakhimpur kheri with C.S. trade.\"\n",
    "print(x)"
   ]
  },
  {
   "cell_type": "code",
   "execution_count": 2,
   "id": "0985ab2e",
   "metadata": {},
   "outputs": [
    {
     "name": "stdout",
     "output_type": "stream",
     "text": [
      "the first number = 5\n",
      "the second number = 2\n",
      "sum=  7\n"
     ]
    }
   ],
   "source": [
    "#(2):-Write a program to perform the following Operations:-\n",
    "#(a):- Addition\n",
    "\n",
    "x=int(input(\"the first number = \"))\n",
    "y=int(input(\"the second number = \"))\n",
    "c=x+y\n",
    "print(\"sum= \",c)"
   ]
  },
  {
   "cell_type": "code",
   "execution_count": 3,
   "id": "14ff649e",
   "metadata": {},
   "outputs": [
    {
     "name": "stdout",
     "output_type": "stream",
     "text": [
      "the first number = 5\n",
      "the second number = 2\n",
      "substraction=  3\n"
     ]
    }
   ],
   "source": [
    "#(b):-Substraction\n",
    "\n",
    "x=int(input(\"the first number = \"))\n",
    "y=int(input(\"the second number = \"))\n",
    "c=x-y\n",
    "print(\"substraction= \",c)"
   ]
  },
  {
   "cell_type": "code",
   "execution_count": 4,
   "id": "cb11d5df",
   "metadata": {},
   "outputs": [
    {
     "name": "stdout",
     "output_type": "stream",
     "text": [
      "the first number = 5\n",
      "the second number = 2\n",
      "multipication=  10\n"
     ]
    }
   ],
   "source": [
    "#(c):- Multipication\n",
    "\n",
    "x=int(input(\"the first number = \"))\n",
    "y=int(input(\"the second number = \"))\n",
    "c=x*y\n",
    "print(\"multipication= \",c)"
   ]
  },
  {
   "cell_type": "code",
   "execution_count": 5,
   "id": "fe165bb5",
   "metadata": {},
   "outputs": [
    {
     "name": "stdout",
     "output_type": "stream",
     "text": [
      "the first number = 10\n",
      "the second number = 2\n",
      "Division=  5.0\n"
     ]
    }
   ],
   "source": [
    "#(d):- Division\n",
    "\n",
    "x=int(input(\"the first number = \"))\n",
    "y=int(input(\"the second number = \"))\n",
    "c=x/y\n",
    "print(\"Division= \",c)\n"
   ]
  },
  {
   "cell_type": "code",
   "execution_count": 6,
   "id": "fca4a481",
   "metadata": {},
   "outputs": [
    {
     "name": "stdout",
     "output_type": "stream",
     "text": [
      "the first number = 10\n",
      "the second number = 2\n",
      "modulas=  5\n"
     ]
    }
   ],
   "source": [
    "#(e):- Modulas\n",
    "\n",
    "x=int(input(\"the first number = \"))\n",
    "y=int(input(\"the second number = \"))\n",
    "c=x//y\n",
    "print(\"modulas= \",c)\n"
   ]
  },
  {
   "cell_type": "code",
   "execution_count": 7,
   "id": "f5532d08",
   "metadata": {},
   "outputs": [
    {
     "name": "stdout",
     "output_type": "stream",
     "text": [
      "the first number = 5\n",
      "the second number = 2\n",
      "exponent=  25\n"
     ]
    }
   ],
   "source": [
    "#(f):- Exponent\n",
    "\n",
    "x=int(input(\"the first number = \"))\n",
    "y=int(input(\"the second number = \"))\n",
    "c=x**y\n",
    "print(\"exponent= \",c)"
   ]
  },
  {
   "cell_type": "code",
   "execution_count": 8,
   "id": "c3c5774f",
   "metadata": {},
   "outputs": [
    {
     "name": "stdout",
     "output_type": "stream",
     "text": [
      "the first number = 5\n",
      "the second number = 2\n",
      "2 5\n"
     ]
    }
   ],
   "source": [
    "#(3):-WAP to swap two numbers.\n",
    "\n",
    "x=int(input(\"the first number = \"))\n",
    "y=int(input(\"the second number = \"))\n",
    "temp=x\n",
    "x=y\n",
    "y=temp\n",
    "print(x,y)"
   ]
  },
  {
   "cell_type": "code",
   "execution_count": 9,
   "id": "2b854cb8",
   "metadata": {},
   "outputs": [
    {
     "name": "stdout",
     "output_type": "stream",
     "text": [
      "the first number = 10\n",
      "the second number = 5\n",
      "5 10\n"
     ]
    }
   ],
   "source": [
    "#(4):-WAP to swap two number without using third variable.\n",
    "\n",
    "x=int(input(\"the first number = \"))\n",
    "y=int(input(\"the second number = \"))\n",
    "x=x+y\n",
    "y=x-y\n",
    "x=x-y\n",
    "print(x,y)\n"
   ]
  },
  {
   "cell_type": "code",
   "execution_count": 10,
   "id": "099c1f0a",
   "metadata": {},
   "outputs": [
    {
     "name": "stdout",
     "output_type": "stream",
     "text": [
      "principal amount= 12000\n",
      "Rate= 10\n",
      "time= 1\n",
      "Simple Intrest=  1200\n"
     ]
    }
   ],
   "source": [
    "#(5):- WAP to compute simple intrest.\n",
    "\n",
    "p=int(input(\"principal amount= \"))\n",
    "r=int(input(\"Rate= \"))\n",
    "t=int(input(\"time= \"))\n",
    "SI=p*r*t//100\n",
    "\n",
    "print(\"Simple Intrest= \",SI)"
   ]
  },
  {
   "cell_type": "code",
   "execution_count": 11,
   "id": "6a211d08",
   "metadata": {},
   "outputs": [
    {
     "name": "stdout",
     "output_type": "stream",
     "text": [
      "the first number = 5\n",
      "the second number = 2\n",
      "the third number = 3\n",
      "the fourth number = 4\n",
      "the fifth number = 1\n",
      "Average=  3.0\n"
     ]
    }
   ],
   "source": [
    "#(6):-WAP to find average of five number by user input.\n",
    "\n",
    "a=int(input(\"the first number = \"))\n",
    "b=int(input(\"the second number = \"))\n",
    "c=int(input(\"the third number = \"))\n",
    "d=int(input(\"the fourth number = \"))\n",
    "e=int(input(\"the fifth number = \"))\n",
    "X=(a+b+c+d+e)/5\n",
    "print(\"Average= \",X)\n"
   ]
  },
  {
   "cell_type": "code",
   "execution_count": 12,
   "id": "5bd1ad14",
   "metadata": {},
   "outputs": [
    {
     "name": "stdout",
     "output_type": "stream",
     "text": [
      "the number = 2\n",
      "the number = 3\n",
      "the number = 4\n",
      "discriment=  -23\n"
     ]
    }
   ],
   "source": [
    "#(7):- WAP to calculate the discriment of a quadratic equation.\n",
    "\n",
    "a=int(input(\"the number = \"))\n",
    "b=int(input(\"the number = \"))\n",
    "c=int(input(\"the number = \"))\n",
    "D=b**2-4*a*c\n",
    "print(\"discriment= \",D)"
   ]
  },
  {
   "cell_type": "code",
   "execution_count": 13,
   "id": "43fdac22",
   "metadata": {},
   "outputs": [
    {
     "name": "stdout",
     "output_type": "stream",
     "text": [
      "the first number = 4\n",
      "the second number = 3\n",
      "area=  12\n"
     ]
    }
   ],
   "source": [
    "#(8):-WAP to calculate the area of the following shapes.\n",
    "#(a):- Rectangle\n",
    "\n",
    "l=int(input(\"the first number = \"))\n",
    "b=int(input(\"the second number = \"))\n",
    "a=l*b\n",
    "print(\"area= \",a)"
   ]
  },
  {
   "cell_type": "code",
   "execution_count": 14,
   "id": "6408e582",
   "metadata": {},
   "outputs": [
    {
     "name": "stdout",
     "output_type": "stream",
     "text": [
      "the number = 5\n",
      "area=  25\n"
     ]
    }
   ],
   "source": [
    "#(b):- square\n",
    "\n",
    "s=int(input(\"the number = \"))\n",
    "a=s*s\n",
    "print(\"area= \",a)"
   ]
  },
  {
   "cell_type": "code",
   "execution_count": 15,
   "id": "0ca4774e",
   "metadata": {},
   "outputs": [
    {
     "name": "stdout",
     "output_type": "stream",
     "text": [
      "the number = 4\n",
      "the number = 5\n",
      "area=  10.0\n"
     ]
    }
   ],
   "source": [
    "#(c):-Triangle\n",
    "\n",
    "b=int(input(\"the number = \"))\n",
    "h=int(input(\"the number = \"))\n",
    "a=b*h/2\n",
    "print(\"area= \",a)"
   ]
  },
  {
   "cell_type": "code",
   "execution_count": 16,
   "id": "22249b23",
   "metadata": {},
   "outputs": [
    {
     "name": "stdout",
     "output_type": "stream",
     "text": [
      "the number = 5\n",
      "area=  78.5\n"
     ]
    }
   ],
   "source": [
    "#(d):-Circle\n",
    "\n",
    "r=int(input(\"the number = \"))\n",
    "a=3.14*r**2\n",
    "print(\"area= \",a)"
   ]
  },
  {
   "cell_type": "code",
   "execution_count": 17,
   "id": "9e04c6f1",
   "metadata": {},
   "outputs": [
    {
     "name": "stdout",
     "output_type": "stream",
     "text": [
      "the number = 5\n",
      "25\n"
     ]
    }
   ],
   "source": [
    "#(9):-WAP to calculate the power of the number.\n",
    "\n",
    "x=int(input(\"the number = \"))\n",
    "a=x**2\n",
    "print(a)\n"
   ]
  },
  {
   "cell_type": "code",
   "execution_count": 18,
   "id": "1d5ca8c2",
   "metadata": {},
   "outputs": [
    {
     "name": "stdout",
     "output_type": "stream",
     "text": [
      "3.9.13\n"
     ]
    }
   ],
   "source": [
    "#(10):-WAP to get the python version.\n",
    "\n",
    "from platform import python_version\n",
    "print(python_version())"
   ]
  },
  {
   "cell_type": "code",
   "execution_count": 19,
   "id": "b878efb7",
   "metadata": {},
   "outputs": [
    {
     "name": "stdout",
     "output_type": "stream",
     "text": [
      "Enter the number= 45\n",
      "marks 45\n",
      "PASS\n"
     ]
    }
   ],
   "source": [
    "# WAP to check whether a student is pass or fail.\n",
    "\n",
    "a=int(input(\"Enter the number= \"))\n",
    "print(\"marks\",a)\n",
    "if a>=33:\n",
    "    print(\"PASS\")\n",
    "else:\n",
    "    print(\"FAIL\")"
   ]
  },
  {
   "cell_type": "code",
   "execution_count": 20,
   "id": "8eda6c7a",
   "metadata": {},
   "outputs": [
    {
     "name": "stdout",
     "output_type": "stream",
     "text": [
      "Enter the Age= 25\n",
      "Age 25\n",
      "Eligible for vote\n"
     ]
    }
   ],
   "source": [
    "# WAP to check whether a person is eligible to vote or not.\n",
    "\n",
    "a=int(input(\"Enter the Age= \"))\n",
    "print(\"Age\",a)\n",
    "if a>=18:\n",
    "    print(\"Eligible for vote\")\n",
    "else:\n",
    "        print(\"Not Eligible\")"
   ]
  },
  {
   "cell_type": "code",
   "execution_count": 21,
   "id": "d184fd6a",
   "metadata": {},
   "outputs": [
    {
     "name": "stdout",
     "output_type": "stream",
     "text": [
      "Enter the first number= 25\n",
      "Enter the second number= 20\n",
      " greatest number =  25\n"
     ]
    }
   ],
   "source": [
    "# WAP to Enter the Two Numbers and Print the greatest number.\n",
    "\n",
    "a=int(input(\"Enter the first number= \"))\n",
    "b=int(input(\"Enter the second number= \"))\n",
    "if a>b:\n",
    "    print(\" greatest number = \",format(a))\n",
    "else:\n",
    "    print(\"greatest number = \",format(b))"
   ]
  },
  {
   "cell_type": "code",
   "execution_count": 22,
   "id": "1275507f",
   "metadata": {},
   "outputs": [
    {
     "name": "stdout",
     "output_type": "stream",
     "text": [
      "Enter the number= 25\n",
      "Enter the number= 20\n",
      "smallest number=  20\n"
     ]
    }
   ],
   "source": [
    "# WAP to Enter the Two Numbers and Print the smallest number.\n",
    "\n",
    "a=int(input(\"Enter the number= \"))\n",
    "b=int(input(\"Enter the number= \"))\n",
    "if a<b:\n",
    "    print(\"smallest number= \",format(a))\n",
    "else:\n",
    "    print(\"smallest number= \",format(b))"
   ]
  },
  {
   "cell_type": "code",
   "execution_count": 23,
   "id": "80cf3b30",
   "metadata": {},
   "outputs": [
    {
     "name": "stdout",
     "output_type": "stream",
     "text": [
      "Enter the number= 31\n",
      "number 31\n",
      "Not Even\n"
     ]
    }
   ],
   "source": [
    "# WAP to check whether the number is even or not.\n",
    "\n",
    "a=int(input(\"Enter the number= \"))\n",
    "print(\"number\",a)\n",
    "if a%2==0:\n",
    "    print(\"Number is Even\")\n",
    "else:\n",
    "        print(\"Not Even\")"
   ]
  },
  {
   "cell_type": "code",
   "execution_count": null,
   "id": "b31f09b2",
   "metadata": {},
   "outputs": [],
   "source": []
  }
 ],
 "metadata": {
  "kernelspec": {
   "display_name": "Python 3 (ipykernel)",
   "language": "python",
   "name": "python3"
  },
  "language_info": {
   "codemirror_mode": {
    "name": "ipython",
    "version": 3
   },
   "file_extension": ".py",
   "mimetype": "text/x-python",
   "name": "python",
   "nbconvert_exporter": "python",
   "pygments_lexer": "ipython3",
   "version": "3.9.13"
  }
 },
 "nbformat": 4,
 "nbformat_minor": 5
}
