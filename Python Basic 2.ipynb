{
 "cells": [
  {
   "cell_type": "code",
   "execution_count": 1,
   "id": "78cc5d64",
   "metadata": {},
   "outputs": [
    {
     "name": "stdout",
     "output_type": "stream",
     "text": [
      "length=5\n",
      "breadth=5\n",
      "25 square\n"
     ]
    }
   ],
   "source": [
    "#WAP to take input of length and breadth of a rectangle from user and check if it is a square or not.\n",
    "l=int(input(\"length=\"))\n",
    "b=int(input(\"breadth=\"))\n",
    "s=l*b\n",
    "if l==b:\n",
    "    print(s,\"square\")\n",
    "else:\n",
    "    print(s,\"rectangle\")"
   ]
  },
  {
   "cell_type": "code",
   "execution_count": 2,
   "id": "66d086bc",
   "metadata": {},
   "outputs": [
    {
     "name": "stdout",
     "output_type": "stream",
     "text": [
      "1st person age= 20\n",
      "2nd person age= 21\n",
      "3rd person age= 22\n",
      "c is older a and b is younger\n"
     ]
    }
   ],
   "source": [
    "#Take input of age of 3 people by user and determine oldest and youngest among them.\n",
    "a=int(input(\"1st person age= \"))\n",
    "b=int(input(\"2nd person age= \"))\n",
    "c=int(input(\"3rd person age= \"))\n",
    "if a>b>c:\n",
    "    print(\"a is older\",\"b and c is younger\")\n",
    "elif a>c>b:\n",
    "    print(\"a is older\",\"b and c is younger\")\n",
    "elif b>a>c:\n",
    "    print(\"b is older\",\"a and c is younger\")\n",
    "elif b>c>a:\n",
    "    print(\"b is older\",\"a and c is younger\")\n",
    "else:\n",
    "    print(\"c is older\",\"a and b is younger\")"
   ]
  },
  {
   "cell_type": "code",
   "execution_count": 3,
   "id": "1c5da0a7",
   "metadata": {},
   "outputs": [
    {
     "name": "stdout",
     "output_type": "stream",
     "text": [
      "Enter the marks= 85\n",
      "grade A\n"
     ]
    }
   ],
   "source": [
    "# WAP to input the grade.\n",
    "\n",
    "m=int(input(\"Enter the marks= \"))\n",
    "if m>80:\n",
    "    print(\"grade A\")\n",
    "elif 60<m<=80:\n",
    "    print(\"grade B\")\n",
    "elif 50<m<=60:\n",
    "    print(\"grade C\")\n",
    "elif 45<m<=50:\n",
    "    print(\"grade D\")\n",
    "elif 33<=m<=45:\n",
    "    print(\"grade E\")\n",
    "else:\n",
    "    print(\"fail\")"
   ]
  },
  {
   "cell_type": "code",
   "execution_count": 4,
   "id": "eade76e4",
   "metadata": {},
   "outputs": [
    {
     "name": "stdout",
     "output_type": "stream",
     "text": [
      "1\n",
      "12\n",
      "123\n",
      "1234\n",
      "12345\n"
     ]
    }
   ],
   "source": [
    "#WAP to print the following number pattern useing loop.\n",
    "#(a):-\n",
    "for i in range(1,6):\n",
    "    for j in range (1,i+1):\n",
    "        print(j,end=\"\")\n",
    "    print()    "
   ]
  },
  {
   "cell_type": "code",
   "execution_count": 5,
   "id": "920fb4a4",
   "metadata": {},
   "outputs": [
    {
     "name": "stdout",
     "output_type": "stream",
     "text": [
      "1\n",
      "22\n",
      "333\n",
      "4444\n",
      "55555\n"
     ]
    }
   ],
   "source": [
    "#(b):-\n",
    "for i in range(1,6):\n",
    "    for j in range(1,i+1):\n",
    "        print(i,end=\"\")\n",
    "    print()    "
   ]
  },
  {
   "cell_type": "code",
   "execution_count": 6,
   "id": "9cc86e06",
   "metadata": {},
   "outputs": [
    {
     "name": "stdout",
     "output_type": "stream",
     "text": [
      "54321\n",
      "4321\n",
      "321\n",
      "21\n",
      "1\n",
      "\n"
     ]
    }
   ],
   "source": [
    "#(c):-\n",
    "\n",
    "for i in range(1,6+1):\n",
    "    for j in range(6-i,0,-1):\n",
    "        print(j,end=\"\")\n",
    "    print()    "
   ]
  },
  {
   "cell_type": "code",
   "execution_count": 7,
   "id": "3012feb4",
   "metadata": {},
   "outputs": [
    {
     "name": "stdout",
     "output_type": "stream",
     "text": [
      "12345\n",
      "1234\n",
      "123\n",
      "12\n",
      "1\n"
     ]
    }
   ],
   "source": [
    "#(d):-\n",
    "b=0\n",
    "for i in range(5,0,-1):\n",
    "    b+=1\n",
    "    for j in range(1,i+1):\n",
    "        print(j,end=\"\")\n",
    "    print()    "
   ]
  },
  {
   "cell_type": "code",
   "execution_count": 8,
   "id": "b0195c01",
   "metadata": {},
   "outputs": [
    {
     "name": "stdout",
     "output_type": "stream",
     "text": [
      "12345\n",
      "1234\n",
      "123\n",
      "12\n",
      "1\n"
     ]
    }
   ],
   "source": [
    "#(e):-\n",
    "b=0\n",
    "for i in range(5,0,-1):\n",
    "    b+=1\n",
    "    for j in range(1,i+1):\n",
    "        print(j,end=\"\")\n",
    "    print()    "
   ]
  },
  {
   "cell_type": "code",
   "execution_count": null,
   "id": "e5c22908",
   "metadata": {},
   "outputs": [],
   "source": []
  }
 ],
 "metadata": {
  "kernelspec": {
   "display_name": "Python 3 (ipykernel)",
   "language": "python",
   "name": "python3"
  },
  "language_info": {
   "codemirror_mode": {
    "name": "ipython",
    "version": 3
   },
   "file_extension": ".py",
   "mimetype": "text/x-python",
   "name": "python",
   "nbconvert_exporter": "python",
   "pygments_lexer": "ipython3",
   "version": "3.9.13"
  }
 },
 "nbformat": 4,
 "nbformat_minor": 5
}
